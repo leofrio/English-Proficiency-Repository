{
 "cells": [
  {
   "cell_type": "code",
   "execution_count": 3,
   "metadata": {},
   "outputs": [
    {
     "name": "stderr",
     "output_type": "stream",
     "text": [
      "c:\\ProgramData\\Anaconda3\\envs\\geo\\lib\\site-packages\\scipy\\__init__.py:146: UserWarning: A NumPy version >=1.16.5 and <1.23.0 is required for this version of SciPy (detected version 1.23.4\n",
      "  warnings.warn(f\"A NumPy version >={np_minversion} and <{np_maxversion}\"\n"
     ]
    }
   ],
   "source": [
    "import pandas as pd \n",
    "import numpy as np \n",
    "import seaborn as sns  \n",
    "from sklearn.preprocessing import MinMaxScaler"
   ]
  },
  {
   "cell_type": "code",
   "execution_count": 4,
   "metadata": {},
   "outputs": [
    {
     "ename": "SyntaxError",
     "evalue": "invalid syntax (Temp/ipykernel_3868/894803479.py, line 9)",
     "output_type": "error",
     "traceback": [
      "\u001b[1;36m  File \u001b[1;32m\"C:\\Users\\DIVALD~1\\AppData\\Local\\Temp/ipykernel_3868/894803479.py\"\u001b[1;36m, line \u001b[1;32m9\u001b[0m\n\u001b[1;33m    replace_dt = lambda x: x.replace('DECISION TREE', 'DT') v\u001b[0m\n\u001b[1;37m                                                            ^\u001b[0m\n\u001b[1;31mSyntaxError\u001b[0m\u001b[1;31m:\u001b[0m invalid syntax\n"
     ]
    }
   ],
   "source": [
    "embedders = [\"BERT\", \"DOCTOVEC\", \"SPACY\", \"TFIDF\"]\n",
    "\n",
    "df_test_table = pd.read_csv(\"./data/test_table.csv\")\n",
    "\n",
    "split_func = lambda x: x.split('_')[1]\n",
    "replace_rf = lambda x: x.replace('RANDOM FOREST', 'RF')\n",
    "replace_ab = lambda x: x.replace('ADA BOOST', 'AB')\n",
    "replace_lr = lambda x: x.replace('LINEAR REGRESSION', 'LR')\n",
    "replace_dt = lambda x: x.replace('DECISION TREE', 'DT')"
   ]
  },
  {
   "cell_type": "code",
   "execution_count": 7,
   "metadata": {},
   "outputs": [],
   "source": [
    "emb = embedders[0]"
   ]
  },
  {
   "cell_type": "code",
   "execution_count": 8,
   "metadata": {},
   "outputs": [
    {
     "name": "stderr",
     "output_type": "stream",
     "text": [
      "/tmp/ipykernel_28021/2885939223.py:3: SettingWithCopyWarning: \n",
      "A value is trying to be set on a copy of a slice from a DataFrame.\n",
      "Try using .loc[row_indexer,col_indexer] = value instead\n",
      "\n",
      "See the caveats in the documentation: https://pandas.pydata.org/pandas-docs/stable/user_guide/indexing.html#returning-a-view-versus-a-copy\n",
      "  df_plot['embed_and_model_name'] = df_plot['embed_and_model_name'].apply(split_func).apply(replace_rf).apply(replace_ab).apply(replace_lr).apply(replace_dt)\n",
      "/tmp/ipykernel_28021/2885939223.py:5: SettingWithCopyWarning: \n",
      "A value is trying to be set on a copy of a slice from a DataFrame.\n",
      "Try using .loc[row_indexer,col_indexer] = value instead\n",
      "\n",
      "See the caveats in the documentation: https://pandas.pydata.org/pandas-docs/stable/user_guide/indexing.html#returning-a-view-versus-a-copy\n",
      "  df_plot['Modelos'] = df_plot['embed_and_model_name']\n",
      "/tmp/ipykernel_28021/2885939223.py:6: SettingWithCopyWarning: \n",
      "A value is trying to be set on a copy of a slice from a DataFrame.\n",
      "Try using .loc[row_indexer,col_indexer] = value instead\n",
      "\n",
      "See the caveats in the documentation: https://pandas.pydata.org/pandas-docs/stable/user_guide/indexing.html#returning-a-view-versus-a-copy\n",
      "  df_plot['Pontuação'] = df_plot['score']\n"
     ]
    },
    {
     "data": {
      "text/plain": [
       "[(0.0, 1.0)]"
      ]
     },
     "execution_count": 8,
     "metadata": {},
     "output_type": "execute_result"
    },
    {
     "data": {
      "image/png": "[encoded data removed]",
      "text/plain": [
       "<Figure size 640x480 with 1 Axes>"
      ]
     },
     "metadata": {},
     "output_type": "display_data"
    }
   ],
   "source": [
    "df_plot = df_test_table[df_test_table['embed_and_model_name'].str.contains(emb)]\n",
    "\n",
    "df_plot['embed_and_model_name'] = df_plot['embed_and_model_name'].apply(split_func).apply(replace_rf).apply(replace_ab).apply(replace_lr).apply(replace_dt)\n",
    "\n",
    "df_plot['Modelos'] = df_plot['embed_and_model_name']\n",
    "df_plot['Pontuação'] = df_plot['score']\n",
    "\n",
    "scaler=MinMaxScaler()\n",
    "aux=scaler.fit_transform(df_plot['Pontuação'].values.reshape(-1,1))\n",
    "ax=sns.barplot(data=df_plot,x=\"Modelos\",y='Pontuação')\n",
    "# ax.set(title=emb)\n",
    "ax.set(ylim=(0,1.0)) "
   ]
  }
 ],
 "metadata": {
  "kernelspec": {
   "display_name": "Python 3.9.7 ('geo')",
   "language": "python",
   "name": "python3"
  },
  "language_info": {
   "codemirror_mode": {
    "name": "ipython",
    "version": 3
   },
   "file_extension": ".py",
   "mimetype": "text/x-python",
   "name": "python",
   "nbconvert_exporter": "python",
   "pygments_lexer": "ipython3",
   "version": "3.9.7"
  },
  "orig_nbformat": 4,
  "vscode": {
   "interpreter": {
    "hash": "ef1779f0ff1eaf3734d7b74179417e75fee630c863368bd74cbaec57a92c71fd"
   }
  }
 },
 "nbformat": 4,
 "nbformat_minor": 2
}
